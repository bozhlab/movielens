{
 "cells": [
  {
   "cell_type": "code",
   "execution_count": 1,
   "metadata": {},
   "outputs": [],
   "source": [
    "from pyspark import SparkConf, SparkContext\n",
    "import pyspark\n",
    "conf = SparkConf()\n",
    "#set validateOutputSpecs to false to ignore writing file to exists output directory\n",
    "conf.set(\"spark.hadoop.validateOutputSpecs\", \"false\")\n",
    "sc = SparkContext.getOrCreate()\n",
    "sc.stop()\n",
    "sc = SparkContext(appName = 'FindTopTenMoviesByHashtags', conf = conf)"
   ]
  },
  {
   "cell_type": "code",
   "execution_count": 2,
   "metadata": {},
   "outputs": [
    {
     "data": {
      "text/html": [
       "\n",
       "        <div>\n",
       "            <p><b>SparkContext</b></p>\n",
       "\n",
       "            <p><a href=\"http://127.0.0.1:4040\">Spark UI</a></p>\n",
       "\n",
       "            <dl>\n",
       "              <dt>Version</dt>\n",
       "                <dd><code>v2.2.0</code></dd>\n",
       "              <dt>Master</dt>\n",
       "                <dd><code>local[*]</code></dd>\n",
       "              <dt>AppName</dt>\n",
       "                <dd><code>FindTopTenMoviesByHashtags</code></dd>\n",
       "            </dl>\n",
       "        </div>\n",
       "        "
      ],
      "text/plain": [
       "<SparkContext master=local[*] appName=FindTopTenMoviesByHashtags>"
      ]
     },
     "execution_count": 2,
     "metadata": {},
     "output_type": "execute_result"
    }
   ],
   "source": [
    "sc # to make sure that spark is work !"
   ]
  },
  {
   "cell_type": "markdown",
   "metadata": {},
   "source": [
    "# Hashtag section"
   ]
  },
  {
   "cell_type": "code",
   "execution_count": 3,
   "metadata": {},
   "outputs": [],
   "source": [
    "#define hashtags here \n",
    "input_hashtags = ['action', 'adventure']"
   ]
  },
  {
   "cell_type": "code",
   "execution_count": 4,
   "metadata": {},
   "outputs": [],
   "source": [
    "#load tags data\n",
    "tags_raw = sc.textFile(\"ml-10M100K/tags.dat\")"
   ]
  },
  {
   "cell_type": "code",
   "execution_count": 5,
   "metadata": {},
   "outputs": [
    {
     "data": {
      "text/plain": [
       "[['26242', '5753', 'Gota kanal', '1186089703'],\n",
       " ['38662', '4873', 'dreams', '1175022485'],\n",
       " ['622', '1391', 'alien invasion', '1215913291'],\n",
       " ['37419', '527', 'Holocaust', '1146738767'],\n",
       " ['37419', '37384', 'workplace', '1140334155']]"
      ]
     },
     "execution_count": 5,
     "metadata": {},
     "output_type": "execute_result"
    }
   ],
   "source": [
    "#user_id, movie_id, tag, timestamp\n",
    "tags_array = tags_raw.map(lambda line: line.split('::'))\n",
    "tags_array.takeSample(False, 5)"
   ]
  },
  {
   "cell_type": "code",
   "execution_count": 6,
   "metadata": {},
   "outputs": [],
   "source": [
    "#remove special characters and whitespace\n",
    "def __extract_tags_data(tags_array):\n",
    "            hashtag = ''.join(e for e in tags_array[2] if e.isalnum())\n",
    "            return (hashtag, tags_array[1])"
   ]
  },
  {
   "cell_type": "code",
   "execution_count": 7,
   "metadata": {},
   "outputs": [
    {
     "data": {
      "text/plain": [
       "[('demons', '1350'),\n",
       " ('plotpointtelevision', '6242'),\n",
       " ('remade', '7387'),\n",
       " ('selfdiscovery', '55247'),\n",
       " ('70mm', '592')]"
      ]
     },
     "execution_count": 7,
     "metadata": {},
     "output_type": "execute_result"
    }
   ],
   "source": [
    "#tag, movie_id\n",
    "hashtags = tags_array.map(__extract_tags_data)\n",
    "hashtags.takeSample(False, 5)"
   ]
  },
  {
   "cell_type": "code",
   "execution_count": 8,
   "metadata": {},
   "outputs": [
    {
     "name": "stdout",
     "output_type": "stream",
     "text": [
      "['260', '2133', '4896', '1210', '33493']\n",
      "['1198', '1580', '1210', '45722', '6539']\n"
     ]
    }
   ],
   "source": [
    "#get only movie_id that contains defined tags\n",
    "#hashtag_1 = list of movie_id\n",
    "#hashtag_2 = list of movie_id\n",
    "movies_with_hashtags = [hashtags.filter(lambda h : h[0].lower() == i.lower()).values() for i in input_hashtags]\n",
    "for m in movies_with_hashtags: print(m.takeSample(False, 5))"
   ]
  },
  {
   "cell_type": "code",
   "execution_count": 9,
   "metadata": {},
   "outputs": [
    {
     "name": "stdout",
     "output_type": "stream",
     "text": [
      "{'34', '27706', '110', '6817', '2105', '169', '8961', '59315', '5378', '1894', '736', '5618', '35015', '5064', '3999', '1208', '41566', '780', '1196', '2054', '2987', '1801', '4993', '26662', '2046', '59615', '7308', '8361', '588', '1693', '36401', '1210', '7153', '45722', '2005', '1479', '6539', '4896', '2116', '5816', '4270', '5952', '1215', '30810', '3052', '33493', '924', '8253', '480', '48394', '2143', '2953', '34405', '40815', '8873', '653', '7438', '26776', '1408', '2470', '260', '908', '3000', '10', '7302', '1967', '2872', '2404', '2133', '1291', '4367', '1270', '6350', '7147', '2162', '1049', '2294', '2628', '34150', '1587', '45447', '1259', '2406', '2947', '2366', '31658', '2161', '32', '1198', '41569', '1580', '1', '546', '2405', '7099', '3623'}\n"
     ]
    }
   ],
   "source": [
    "#collect movies list in each tags into list\n",
    "movies_by_tags = [m.collect() for m in movies_with_hashtags]    \n",
    "#get only movies that contain all defined hashtags by intersection all list\n",
    "movies_id = set(movies_by_tags[0]).intersection(*movies_by_tags)\n",
    "print(movies_id)"
   ]
  },
  {
   "cell_type": "markdown",
   "metadata": {},
   "source": [
    "# Rating section"
   ]
  },
  {
   "cell_type": "code",
   "execution_count": 10,
   "metadata": {},
   "outputs": [
    {
     "data": {
      "text/plain": [
       "['188::780::5::838990779',\n",
       " '320::2916::4::1162236714',\n",
       " '338::1::4::1133744434',\n",
       " '215::1377::4::1042431039',\n",
       " '215::737::3::949009428']"
      ]
     },
     "execution_count": 10,
     "metadata": {},
     "output_type": "execute_result"
    }
   ],
   "source": [
    "#load ratings data\n",
    "ratings_raw = sc.textFile(\"ml-10M100K/ratings_small.dat\")\n",
    "ratings_raw.takeSample(False, 5)"
   ]
  },
  {
   "cell_type": "code",
   "execution_count": 11,
   "metadata": {},
   "outputs": [
    {
     "data": {
      "text/plain": [
       "[('1374', 4.0), ('2762', 3.0), ('2728', 4.0), ('2282', 4.0), ('724', 5.0)]"
      ]
     },
     "execution_count": 11,
     "metadata": {},
     "output_type": "execute_result"
    }
   ],
   "source": [
    "#movie_id, rating\n",
    "movies_ratings = ratings_raw.map(lambda line: (line.split('::')[1],float((line.split('::')[2]))))\n",
    "movies_ratings.takeSample(False, 5)"
   ]
  },
  {
   "cell_type": "code",
   "execution_count": 12,
   "metadata": {},
   "outputs": [
    {
     "data": {
      "text/plain": [
       "[('110', 5.0), ('736', 4.0), ('2405', 4.0), ('780', 3.0), ('4993', 5.0)]"
      ]
     },
     "execution_count": 12,
     "metadata": {},
     "output_type": "execute_result"
    }
   ],
   "source": [
    "#filter rating only specific movie_id\n",
    "movies_ratings_filter = movies_ratings.filter(lambda mv: mv[0] in movies_id)\n",
    "movies_ratings_filter.takeSample(False, 5)"
   ]
  },
  {
   "cell_type": "code",
   "execution_count": 13,
   "metadata": {},
   "outputs": [
    {
     "data": {
      "text/plain": [
       "[('546', (22.0, 13)),\n",
       " ('45447', (12.5, 4)),\n",
       " ('1210', (553.0, 135)),\n",
       " ('4270', (32.5, 12)),\n",
       " ('2162', (10.0, 4))]"
      ]
     },
     "execution_count": 13,
     "metadata": {},
     "output_type": "execute_result"
    }
   ],
   "source": [
    "#get total sum of rating and total number of rating from users seperated by movie_id\n",
    "sum_count = (0,0)\n",
    "sum_movies_ratings = movies_ratings_filter.aggregateByKey(sum_count, lambda a,b: (a[0] + b,    a[1] + 1),\n",
    "                                  lambda a,b: (a[0] + b[0], a[1] + b[1]))\n",
    "sum_movies_ratings.takeSample(False, 5)"
   ]
  },
  {
   "cell_type": "code",
   "execution_count": 14,
   "metadata": {},
   "outputs": [
    {
     "name": "stdout",
     "output_type": "stream",
     "text": [
      "[('6350', 4.417), ('260', 4.358), ('31658', 4.333), ('34405', 4.321), ('5618', 4.318), ('1196', 4.266), ('1198', 4.264), ('908', 4.241), ('8961', 4.18), ('7099', 4.167)]\n"
     ]
    }
   ],
   "source": [
    "#get only average rating of each movie\n",
    "#movie_id, avg_rating\n",
    "movie_avg_rating = sum_movies_ratings.mapValues(lambda v: round(v[0]/v[1],3)).takeOrdered(10, key = lambda x: -x[1])\n",
    "print(movie_avg_rating)"
   ]
  },
  {
   "cell_type": "markdown",
   "metadata": {},
   "source": [
    "# Movie section"
   ]
  },
  {
   "cell_type": "code",
   "execution_count": 15,
   "metadata": {},
   "outputs": [
    {
     "data": {
      "text/plain": [
       "['40969::First Descent (2005)::Documentary',\n",
       " '3732::Fury, The (1978)::Horror',\n",
       " '31590::Grisbi (Touchez pas au grisbi) (1954)::Crime|Drama|Thriller',\n",
       " '58059::I Live in Fear (Ikimono no kiroku) (1955)::Drama',\n",
       " '591::Tough and Deadly (1995)::Action|Drama|Thriller']"
      ]
     },
     "execution_count": 15,
     "metadata": {},
     "output_type": "execute_result"
    }
   ],
   "source": [
    "#load movies data\n",
    "movies_raw = sc.textFile(\"ml-10M100K/movies.dat\")\n",
    "movies_raw.takeSample(False, 5)"
   ]
  },
  {
   "cell_type": "code",
   "execution_count": 16,
   "metadata": {},
   "outputs": [
    {
     "data": {
      "text/plain": [
       "[('6852', 'In Cold Blood (1967)'),\n",
       " ('3829', 'Mad About Mambo (2000)'),\n",
       " ('36537', 'Thumbsucker (2005)'),\n",
       " ('1142', 'Get Over It (1996)'),\n",
       " ('2710', 'Blair Witch Project, The (1999)')]"
      ]
     },
     "execution_count": 16,
     "metadata": {},
     "output_type": "execute_result"
    }
   ],
   "source": [
    "#movie_id, movie_name\n",
    "movies = movies_raw.map(lambda line: (line.split('::')[0], line.split('::')[1]))\n",
    "movies.takeSample(False, 5)"
   ]
  },
  {
   "cell_type": "code",
   "execution_count": 17,
   "metadata": {},
   "outputs": [],
   "source": [
    "#convert rdd to be dictionary data\n",
    "movies_list = movies.collect()\n",
    "movies_list = dict((key, value) for (key,value) in movies_list)"
   ]
  },
  {
   "cell_type": "code",
   "execution_count": 18,
   "metadata": {},
   "outputs": [
    {
     "name": "stdout",
     "output_type": "stream",
     "text": [
      "[('Castle in the Sky (Tenkû no shiro Rapyuta) (1986)', 4.417), ('Star Wars: Episode IV - A New Hope (a.k.a. Star Wars) (1977)', 4.358), (\"Howl's Moving Castle (Hauru no ugoku shiro) (2004)\", 4.333), ('Serenity (2005)', 4.321), ('Spirited Away (Sen to Chihiro no kamikakushi) (2001)', 4.318), ('Star Wars: Episode V - The Empire Strikes Back (1980)', 4.266), ('Raiders of the Lost Ark (Indiana Jones and the Raiders of the Lost Ark) (1981)', 4.264), ('North by Northwest (1959)', 4.241), ('Incredibles, The (2004)', 4.18), ('Nausicaä of the Valley of the Winds (Kaze no tani no Naushika) (1984)', 4.167)]\n"
     ]
    }
   ],
   "source": [
    "#get the movie name from movies_list and rating from result_movies\n",
    "top_ten_movies = [(movies_list.get(r[0]),r[1]) for r in movie_avg_rating]\n",
    "print(top_ten_movies)"
   ]
  },
  {
   "cell_type": "markdown",
   "metadata": {},
   "source": [
    "# Output"
   ]
  },
  {
   "cell_type": "code",
   "execution_count": 19,
   "metadata": {},
   "outputs": [],
   "source": [
    "#save output to hdfs\n",
    "sc.parallelize(top_ten_movies).coalesce(1).saveAsTextFile('output/FindTopTenMoviesByHashtags/')"
   ]
  },
  {
   "cell_type": "code",
   "execution_count": null,
   "metadata": {},
   "outputs": [],
   "source": []
  }
 ],
 "metadata": {
  "kernelspec": {
   "display_name": "Python 3",
   "language": "python",
   "name": "python3"
  },
  "language_info": {
   "codemirror_mode": {
    "name": "ipython",
    "version": 3
   },
   "file_extension": ".py",
   "mimetype": "text/x-python",
   "name": "python",
   "nbconvert_exporter": "python",
   "pygments_lexer": "ipython3",
   "version": "3.6.3"
  }
 },
 "nbformat": 4,
 "nbformat_minor": 2
}
