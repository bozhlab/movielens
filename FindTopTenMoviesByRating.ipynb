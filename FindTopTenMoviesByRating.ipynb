{
 "cells": [
  {
   "cell_type": "code",
   "execution_count": 1,
   "metadata": {},
   "outputs": [],
   "source": [
    "from pyspark import SparkConf, SparkContext\n",
    "import pyspark\n",
    "conf = SparkConf()\n",
    "#set validateOutputSpecs to false to ignore writing file to exists output directory\n",
    "conf.set(\"spark.hadoop.validateOutputSpecs\", \"false\")\n",
    "sc = SparkContext.getOrCreate()\n",
    "sc.stop()\n",
    "sc = SparkContext(appName = 'FindTopTenMoviesByRating', conf = conf)"
   ]
  },
  {
   "cell_type": "code",
   "execution_count": 2,
   "metadata": {},
   "outputs": [
    {
     "data": {
      "text/html": [
       "\n",
       "        <div>\n",
       "            <p><b>SparkContext</b></p>\n",
       "\n",
       "            <p><a href=\"http://127.0.0.1:4040\">Spark UI</a></p>\n",
       "\n",
       "            <dl>\n",
       "              <dt>Version</dt>\n",
       "                <dd><code>v2.2.0</code></dd>\n",
       "              <dt>Master</dt>\n",
       "                <dd><code>local[*]</code></dd>\n",
       "              <dt>AppName</dt>\n",
       "                <dd><code>FindTopTenMoviesByRating</code></dd>\n",
       "            </dl>\n",
       "        </div>\n",
       "        "
      ],
      "text/plain": [
       "<SparkContext master=local[*] appName=FindTopTenMoviesByRating>"
      ]
     },
     "execution_count": 2,
     "metadata": {},
     "output_type": "execute_result"
    }
   ],
   "source": [
    "sc # to make sure that spark is work !"
   ]
  },
  {
   "cell_type": "markdown",
   "metadata": {},
   "source": [
    "# Rating section"
   ]
  },
  {
   "cell_type": "code",
   "execution_count": 3,
   "metadata": {},
   "outputs": [
    {
     "data": {
      "text/plain": [
       "['139::2109::3::974488133',\n",
       " '51::1929::5::982368105',\n",
       " '289::1093::3::948357538',\n",
       " '182::2687::3::998911740',\n",
       " '323::3175::5::1022309843']"
      ]
     },
     "execution_count": 3,
     "metadata": {},
     "output_type": "execute_result"
    }
   ],
   "source": [
    "#load ratings data\n",
    "ratings_raw = sc.textFile(\"ml-10M100K/ratings_small.dat\")\n",
    "ratings_raw.takeSample(False, 5)"
   ]
  },
  {
   "cell_type": "code",
   "execution_count": 4,
   "metadata": {},
   "outputs": [
    {
     "data": {
      "text/plain": [
       "[('4066', 3.0), ('1222', 5.0), ('19', 4.0), ('3994', 4.0), ('3203', 3.0)]"
      ]
     },
     "execution_count": 4,
     "metadata": {},
     "output_type": "execute_result"
    }
   ],
   "source": [
    "#movie_id, rating\n",
    "movies_ratings = ratings_raw.map(lambda line: (line.split('::')[1],float((line.split('::')[2]))))\n",
    "movies_ratings.takeSample(False, 5)"
   ]
  },
  {
   "cell_type": "code",
   "execution_count": 5,
   "metadata": {},
   "outputs": [
    {
     "data": {
      "text/plain": [
       "[('5809', (2.5, 1)),\n",
       " ('53464', (3.0, 1)),\n",
       " ('3928', (3.0, 1)),\n",
       " ('381', (40.0, 11)),\n",
       " ('458', (11.0, 3))]"
      ]
     },
     "execution_count": 5,
     "metadata": {},
     "output_type": "execute_result"
    }
   ],
   "source": [
    "#get total sum of rating and total number of rating from users seperated by movie_id\n",
    "sum_count = (0,0)\n",
    "sum_movies_ratings = movies_ratings.aggregateByKey(sum_count, lambda a,b: (a[0] + b,    a[1] + 1),\n",
    "                                  lambda a,b: (a[0] + b[0], a[1] + b[1]))\n",
    "sum_movies_ratings.takeSample(False, 5)"
   ]
  },
  {
   "cell_type": "code",
   "execution_count": 6,
   "metadata": {},
   "outputs": [
    {
     "name": "stdout",
     "output_type": "stream",
     "text": [
      "[('2931', 5.0), ('2938', 5.0), ('3885', 5.0), ('116', 5.0), ('1489', 5.0), ('8916', 5.0), ('47099', 5.0), ('47970', 5.0), ('602', 5.0), ('1152', 5.0)]\n"
     ]
    }
   ],
   "source": [
    "#get only average rating of each movie\n",
    "#movie_id, avg_rating\n",
    "movie_avg_rating = sum_movies_ratings.mapValues(lambda v: round(v[0]/v[1],3)).takeOrdered(10, key = lambda x: -x[1])\n",
    "print(movie_avg_rating)"
   ]
  },
  {
   "cell_type": "markdown",
   "metadata": {},
   "source": [
    "# Movie section"
   ]
  },
  {
   "cell_type": "code",
   "execution_count": 7,
   "metadata": {},
   "outputs": [
    {
     "data": {
      "text/plain": [
       "['3713::Long Walk Home, The (1990)::Drama',\n",
       " '1898::Land Girls, The (1998)::Drama|War',\n",
       " '2873::Lulu on the Bridge (1998)::Drama|Mystery|Romance',\n",
       " '25766::Crowd, The (1928)::Drama',\n",
       " '400::Homage (1995)::Drama']"
      ]
     },
     "execution_count": 7,
     "metadata": {},
     "output_type": "execute_result"
    }
   ],
   "source": [
    "#load movies data\n",
    "movies_raw = sc.textFile(\"ml-10M100K/movies.dat\")\n",
    "movies_raw.takeSample(False, 5)"
   ]
  },
  {
   "cell_type": "code",
   "execution_count": 8,
   "metadata": {},
   "outputs": [
    {
     "data": {
      "text/plain": [
       "[('377', 'Speed (1994)'),\n",
       " ('6554', 'Garage Days (2002)'),\n",
       " ('2522', \"Airport '77 (1977)\"),\n",
       " ('2775', 'Head On (1998)'),\n",
       " ('1391', 'Mars Attacks! (1996)')]"
      ]
     },
     "execution_count": 8,
     "metadata": {},
     "output_type": "execute_result"
    }
   ],
   "source": [
    "#movie_id, movie_name\n",
    "movies = movies_raw.map(lambda line: (line.split('::')[0], line.split('::')[1]))\n",
    "movies.takeSample(False, 5)"
   ]
  },
  {
   "cell_type": "code",
   "execution_count": 9,
   "metadata": {},
   "outputs": [],
   "source": [
    "#convert rdd to be dictionary data\n",
    "movies_list = movies.collect()\n",
    "movies_list = dict((key, value) for (key,value) in movies_list)"
   ]
  },
  {
   "cell_type": "code",
   "execution_count": 10,
   "metadata": {},
   "outputs": [
    {
     "name": "stdout",
     "output_type": "stream",
     "text": [
      "[('Time of the Gypsies (Dom za vesanje) (1989)', 5.0), ('Man Facing Southeast (Hombre mirando al sudeste) (1986)', 5.0), ('Love & Sex (2000)', 5.0), ('Anne Frank Remembered (1995)', 5.0), (\"Cats Don't Dance (1997)\", 5.0), ('Shall We Dance? (2004)', 5.0), ('Pursuit of Happyness, The (2006)', 5.0), ('Last Kiss, The (2006)', 5.0), ('Great Day in Harlem, A (1994)', 5.0), ('He Walked by Night (1948)', 5.0)]\n"
     ]
    }
   ],
   "source": [
    "#get the movie name from movies_list and rating from result_movies\n",
    "top_ten_movies = [(movies_list.get(r[0]),r[1]) for r in movie_avg_rating]\n",
    "print(top_ten_movies)"
   ]
  },
  {
   "cell_type": "markdown",
   "metadata": {},
   "source": [
    "# Output"
   ]
  },
  {
   "cell_type": "code",
   "execution_count": 11,
   "metadata": {},
   "outputs": [],
   "source": [
    "#save output to hdfs\n",
    "sc.parallelize(top_ten_movies).coalesce(1).saveAsTextFile('output/FindTopTenMoviesByRating/')"
   ]
  },
  {
   "cell_type": "code",
   "execution_count": null,
   "metadata": {},
   "outputs": [],
   "source": []
  }
 ],
 "metadata": {
  "kernelspec": {
   "display_name": "Python 3",
   "language": "python",
   "name": "python3"
  },
  "language_info": {
   "codemirror_mode": {
    "name": "ipython",
    "version": 3
   },
   "file_extension": ".py",
   "mimetype": "text/x-python",
   "name": "python",
   "nbconvert_exporter": "python",
   "pygments_lexer": "ipython3",
   "version": "3.6.3"
  }
 },
 "nbformat": 4,
 "nbformat_minor": 2
}
