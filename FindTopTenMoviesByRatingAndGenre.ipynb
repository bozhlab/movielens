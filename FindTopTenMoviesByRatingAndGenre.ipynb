{
 "cells": [
  {
   "cell_type": "code",
   "execution_count": 1,
   "metadata": {},
   "outputs": [],
   "source": [
    "from pyspark import SparkConf, SparkContext\n",
    "import pyspark\n",
    "conf = SparkConf()\n",
    "#set validateOutputSpecs to false to ignore writing file to exists output directory\n",
    "conf.set(\"spark.hadoop.validateOutputSpecs\", \"false\")\n",
    "sc = SparkContext.getOrCreate()\n",
    "sc.stop()\n",
    "sc = SparkContext(appName = 'FindTopTenMoviesByRatingAndGenre', conf = conf)"
   ]
  },
  {
   "cell_type": "code",
   "execution_count": 2,
   "metadata": {},
   "outputs": [
    {
     "data": {
      "text/html": [
       "\n",
       "        <div>\n",
       "            <p><b>SparkContext</b></p>\n",
       "\n",
       "            <p><a href=\"http://127.0.0.1:4040\">Spark UI</a></p>\n",
       "\n",
       "            <dl>\n",
       "              <dt>Version</dt>\n",
       "                <dd><code>v2.2.0</code></dd>\n",
       "              <dt>Master</dt>\n",
       "                <dd><code>local[*]</code></dd>\n",
       "              <dt>AppName</dt>\n",
       "                <dd><code>FindTopTenMoviesByRatingAndGenre</code></dd>\n",
       "            </dl>\n",
       "        </div>\n",
       "        "
      ],
      "text/plain": [
       "<SparkContext master=local[*] appName=FindTopTenMoviesByRatingAndGenre>"
      ]
     },
     "execution_count": 2,
     "metadata": {},
     "output_type": "execute_result"
    }
   ],
   "source": [
    "sc # to make sure that spark is work !"
   ]
  },
  {
   "cell_type": "markdown",
   "metadata": {},
   "source": [
    "# Genre section"
   ]
  },
  {
   "cell_type": "code",
   "execution_count": 3,
   "metadata": {},
   "outputs": [
    {
     "data": {
      "text/plain": [
       "['841::Eyes Without a Face (Les Yeux sans visage) (1959)::Horror',\n",
       " '5047::Kung Pow: Enter the Fist (2002)::Action|Comedy',\n",
       " '558::Pagemaster, The (1994)::Action|Adventure|Animation|Children|Fantasy',\n",
       " '8070::Grill Point (Halbe Treppe) (2002)::Drama',\n",
       " '58347::Penelope (2006)::Children|Comedy|Fantasy|Romance']"
      ]
     },
     "execution_count": 3,
     "metadata": {},
     "output_type": "execute_result"
    }
   ],
   "source": [
    "#load movies data\n",
    "movies_raw = sc.textFile(\"ml-10M100K/movies.dat\")\n",
    "movies_raw.takeSample(False, 5)"
   ]
  },
  {
   "cell_type": "code",
   "execution_count": 4,
   "metadata": {},
   "outputs": [
    {
     "data": {
      "text/plain": [
       "['Crime', 'Drama', 'Thriller', 'War', 'Children']"
      ]
     },
     "execution_count": 4,
     "metadata": {},
     "output_type": "execute_result"
    }
   ],
   "source": [
    "genres = movies_raw.flatMap(lambda line: line.split('::')[2].split('|')).distinct()\n",
    "genres.takeSample(False, 5)"
   ]
  },
  {
   "cell_type": "code",
   "execution_count": 5,
   "metadata": {},
   "outputs": [
    {
     "name": "stdout",
     "output_type": "stream",
     "text": [
      "['Adventure', 'Animation', 'Children', 'Comedy', 'Fantasy', 'Romance', 'Drama', 'Action', 'Crime', 'Thriller', 'Horror', 'Mystery', 'Sci-Fi', 'IMAX', 'Documentary', 'War', 'Musical', 'Film-Noir', 'Western', '(no genres listed)']\n"
     ]
    }
   ],
   "source": [
    "total_genres = genres.collect()\n",
    "print(genres.collect())"
   ]
  },
  {
   "cell_type": "markdown",
   "metadata": {},
   "source": [
    "# Rating section"
   ]
  },
  {
   "cell_type": "code",
   "execution_count": 6,
   "metadata": {},
   "outputs": [
    {
     "data": {
      "text/plain": [
       "['295::2763::5::981595234',\n",
       " '103::1347::3::868266274',\n",
       " '174::2391::2::959913815',\n",
       " '262::3408::2.5::1157118105',\n",
       " '215::6264::4::1147232337']"
      ]
     },
     "execution_count": 6,
     "metadata": {},
     "output_type": "execute_result"
    }
   ],
   "source": [
    "#load ratings data\n",
    "ratings_raw = sc.textFile(\"ml-10M100K/ratings_small.dat\")\n",
    "ratings_raw.takeSample(False, 5)"
   ]
  },
  {
   "cell_type": "code",
   "execution_count": 7,
   "metadata": {},
   "outputs": [
    {
     "data": {
      "text/plain": [
       "[('3571', 5.0), ('527', 4.0), ('1409', 3.0), ('2529', 4.0), ('1047', 4.5)]"
      ]
     },
     "execution_count": 7,
     "metadata": {},
     "output_type": "execute_result"
    }
   ],
   "source": [
    "#movie_id, rating\n",
    "movies_ratings = ratings_raw.map(lambda line: (line.split('::')[1],float((line.split('::')[2]))))\n",
    "movies_ratings.takeSample(False, 5)"
   ]
  },
  {
   "cell_type": "code",
   "execution_count": 8,
   "metadata": {},
   "outputs": [],
   "source": [
    "rdd = {}\n",
    "for g in total_genres:\n",
    "    #get only movie_id in that genre\n",
    "    movies_list = movies_raw.filter(lambda line: g in line.split('::')[2]).map(lambda line: (line.split('::')[0])).collect()\n",
    "\n",
    "    #get only rating from those movies\n",
    "    movies_ratings_filter = movies_ratings.filter(lambda mv: mv[0] in movies_list)\n",
    "    \n",
    "    #get total sum of rating and total number of rating from users seperated by movie_id\n",
    "    sum_count = (0,0)\n",
    "    sum_movies_ratings = movies_ratings_filter.aggregateByKey(sum_count, lambda a,b: (a[0] + b,    a[1] + 1),\n",
    "                                  lambda a,b: (a[0] + b[0], a[1] + b[1]))\n",
    "\n",
    "    movie_avg_rating = sum_movies_ratings.mapValues(lambda v: round(v[0]/v[1],3)).takeOrdered(10, key = lambda x: -x[1])\n",
    "    \n",
    "    #find movie_name\n",
    "    movies = movies_raw.map(lambda line: (line.split('::')[0], line.split('::')[1]))\n",
    "    movies_list = movies.collect()\n",
    "    movies_list = dict((key, value) for (key,value) in movies_list)\n",
    "    top_ten_movies = [(movies_list.get(r[0]),r[1]) for r in movie_avg_rating]\n",
    "    \n",
    "    rdd[g] = top_ten_movies\n"
   ]
  },
  {
   "cell_type": "code",
   "execution_count": 9,
   "metadata": {},
   "outputs": [
    {
     "name": "stdout",
     "output_type": "stream",
     "text": [
      "{'Adventure': [('Rio Lobo (1970)', 5.0), ('Chronicles of Narnia: Prince Caspian, The (2008)', 5.0), ('Day of the Beast, The (El Día de la bestia) (1995)', 5.0), ('Days of Glory (Indigènes) (2006)', 5.0), ('Wages of Fear, The (Le Salaire de la peur) (1953)', 4.875), ('WALL·E (2008)', 4.833), ('Dersu Uzala (1975)', 4.6), ('Man Who Knew Too Much, The (1956)', 4.571), ('After the Sunset (2004)', 4.5), ('Horse Soldiers, The (1959)', 4.5)], 'Animation': [(\"Cats Don't Dance (1997)\", 5.0), ('WALL·E (2008)', 4.833), ('Winnie the Pooh and the Blustery Day (1968)', 4.8), ('Last Unicorn, The (1982)', 4.75), ('Persepolis (2007)', 4.5), ('Wallace & Gromit: The Best of Aardman Animation (1996)', 4.471), ('Castle in the Sky (Tenkû no shiro Rapyuta) (1986)', 4.417), ('Wallace & Gromit: The Wrong Trousers (1993)', 4.381), ('Creature Comforts (1989)', 4.35), (\"Howl's Moving Castle (Hauru no ugoku shiro) (2004)\", 4.333)], 'Children': [(\"Cats Don't Dance (1997)\", 5.0), ('Chronicles of Narnia: Prince Caspian, The (2008)', 5.0), ('WALL·E (2008)', 4.833), ('Winnie the Pooh and the Blustery Day (1968)', 4.8), ('Last Unicorn, The (1982)', 4.75), (\"Beethoven's 2nd (1993)\", 4.5), ('Millions (2004)', 4.5), ('RV (2006)', 4.5), ('5,000 Fingers of Dr. T, The (1953)', 4.5), ('Castle in the Sky (Tenkû no shiro Rapyuta) (1986)', 4.417)], 'Comedy': [('Love & Sex (2000)', 5.0), ('Shall We Dance? (2004)', 5.0), ('Last Kiss, The (2006)', 5.0), (\"Everybody's Famous! (Iedereen beroemd!) (2000)\", 5.0), (\"You Can't Take It with You (1938)\", 5.0), ('Seven Chances (1925)', 5.0), ('Limelight (1952)', 5.0), ('Monkey Business (1952)', 5.0), (\"Man's Favorite Sport? (1964)\", 5.0), ('Private Life of Sherlock Holmes, The (1970)', 5.0)], 'Fantasy': [('Chronicles of Narnia: Prince Caspian, The (2008)', 5.0), ('Last Wave, The (1977)', 5.0), ('Juliet of the Spirits (Giulietta degli spiriti) (1965)', 5.0), ('Paperhouse (1988)', 5.0), ('Fountain, The (2006)', 5.0), ('Dreams (Yume) (1990)', 5.0), ('Beauty and the Beast (Belle et la bête, La) (1946)', 4.833), ('Last Unicorn, The (1982)', 4.75), ('Chinese Ghost Story, A (Sinnui yauwan) (1987)', 4.75), ('Jacket, The (2005)', 4.667)], 'Romance': [('Love & Sex (2000)', 5.0), ('Shall We Dance? (2004)', 5.0), ('Place in the Sun, A (1951)', 5.0), ('Last Metro, The (Dernier métro, Le) (1980)', 5.0), ('Now, Voyager (1942)', 5.0), ('San Francisco (1936)', 5.0), ('Alphaville (Alphaville, une étrange aventure de Lemmy Caution) (1965)', 5.0), (\"You Can't Take It with You (1938)\", 5.0), ('How Green Was My Valley (1941)', 5.0), ('Limelight (1952)', 5.0)], 'Drama': [('Time of the Gypsies (Dom za vesanje) (1989)', 5.0), ('Man Facing Southeast (Hombre mirando al sudeste) (1986)', 5.0), ('Pursuit of Happyness, The (2006)', 5.0), ('Last Kiss, The (2006)', 5.0), ('Place in the Sun, A (1951)', 5.0), ('Two Women (La Ciociara) (1961)', 5.0), ('Last Metro, The (Dernier métro, Le) (1980)', 5.0), ('Now, Voyager (1942)', 5.0), (\"Everybody's Famous! (Iedereen beroemd!) (2000)\", 5.0), ('Sorry, Wrong Number (1948)', 5.0)], 'Action': [('Stagecoach (1939)', 5.0), ('Safety Last! (1923)', 5.0), ('Vantage Point (2008)', 5.0), ('Fog, The (2005)', 5.0), ('Tetsuo, the Ironman (Tetsuo) (1988)', 5.0), (\"Knockin' On Heaven's Door (1997)\", 5.0), ('Beautiful Boxer (2003)', 5.0), ('Days of Glory (Indigènes) (2006)', 5.0), ('Running Scared (2006)', 5.0), ('Fearless (Huo Yuan Jia) (2006)', 5.0)], 'Crime': [('He Walked by Night (1948)', 5.0), ('And Then There Were None (1945)', 5.0), ('Lodger, The (1927)', 5.0), ('Killing, The (1956)', 5.0), ('Scarface (1932)', 5.0), ('Innocent Sleep, The (1996)', 5.0), ('Wild at Heart (1990)', 5.0), ('Clean Slate (Coup de Torchon) (1981)', 5.0), ('Bad Lieutenant (1992)', 5.0), (\"Knockin' On Heaven's Door (1997)\", 5.0)], 'Thriller': [('He Walked by Night (1948)', 5.0), ('Spiral Staircase, The (1946)', 5.0), ('Sorry, Wrong Number (1948)', 5.0), ('Alphaville (Alphaville, une étrange aventure de Lemmy Caution) (1965)', 5.0), ('Murder! (1930)', 5.0), ('Lodger, The (1927)', 5.0), ('Witness for the Prosecution (1957)', 5.0), ('Salvador (1986)', 5.0), ('Vantage Point (2008)', 5.0), ('Wild at Heart (1990)', 5.0)], 'Horror': [('House of Frankenstein (1944)', 5.0), ('Horror of Dracula (Dracula) (1958)', 5.0), ('Fog, The (2005)', 5.0), ('Tetsuo, the Ironman (Tetsuo) (1988)', 5.0), ('Changeling, The (1980)', 5.0), ('Paperhouse (1988)', 5.0), ('Night of the Living Dead (1990)', 5.0), ('Wicker Man, The (1973)', 4.875), ('Chinese Ghost Story, A (Sinnui yauwan) (1987)', 4.75), ('Jeepers Creepers 2 (2003)', 4.5)], 'Mystery': [('And Then There Were None (1945)', 5.0), ('Alphaville (Alphaville, une étrange aventure de Lemmy Caution) (1965)', 5.0), ('Murder! (1930)', 5.0), ('Witness for the Prosecution (1957)', 5.0), ('Private Life of Sherlock Holmes, The (1970)', 5.0), ('Wild at Heart (1990)', 5.0), ('Fog, The (2005)', 5.0), ('Last Wave, The (1977)', 5.0), (\"Avventura, L' (a.k.a. Adventure, The) (1960)\", 5.0), ('Confessional, The (Confessionnal, Le) (1995)', 5.0)], 'Sci-Fi': [('Man Facing Southeast (Hombre mirando al sudeste) (1986)', 5.0), ('Alphaville (Alphaville, une étrange aventure de Lemmy Caution) (1965)', 5.0), ('Monkey Business (1952)', 5.0), ('Simon (1980)', 5.0), ('Tetsuo, the Ironman (Tetsuo) (1988)', 5.0), ('Liquid Sky (1982)', 5.0), ('2046 (2004)', 5.0), ('Solaris (Solyaris) (1972)', 4.833), ('WALL·E (2008)', 4.833), ('Man Who Fell to Earth, The (1976)', 4.75)], 'IMAX': [('Michael Jordan to the Max (2000)', 5.0), ('Dark Knight, The (2008)', 4.5), ('Africa: The Serengeti (1994)', 4.5), ('Everest (1998)', 4.214), ('Harry Potter and the Order of the Phoenix (2007)', 4.167), ('Fantasia 2000 (1999)', 4.0), (\"Shackleton's Antarctic Adventure (2001)\", 4.0), ('Polar Express, The (2004)', 3.5), ('T-Rex: Back to the Cretaceous (1998)', 3.0), ('Aliens of the Deep (2005)', 1.0)], 'Documentary': [('Anne Frank Remembered (1995)', 5.0), ('Great Day in Harlem, A (1994)', 5.0), ('Michael Jordan to the Max (2000)', 5.0), ('Richard Pryor Here and Now (1983)', 5.0), ('Waco: The Rules of Engagement (1997)', 5.0), ('28 Up (1985)', 5.0), ('Cruise, The (1998)', 5.0), ('When We Were Kings (1996)', 4.778), ('Hands on a Hard Body (1996)', 4.667), (\"Endurance: Shackleton's Legendary Antarctic Expedition, The (2000)\", 4.625)], 'War': [('Two Women (La Ciociara) (1961)', 5.0), ('Rio Lobo (1970)', 5.0), ('Birth of a Nation, The (1915)', 5.0), ('Salvador (1986)', 5.0), ('Underground (1995)', 5.0), ('Hiroshima Mon Amour (1959)', 5.0), ('Leopard, The (Il Gattopardo) (1963)', 5.0), ('Days of Glory (Indigènes) (2006)', 5.0), ('Lucie Aubrac (1997)', 5.0), ('Human Condition I, The (Ningen no joken I) (1959)', 5.0)], 'Musical': [(\"Cats Don't Dance (1997)\", 5.0), (\"Everybody's Famous! (Iedereen beroemd!) (2000)\", 5.0), ('San Francisco (1936)', 5.0), ('How Green Was My Valley (1941)', 5.0), ('Road to Bali (1952)', 5.0), ('La Vie en Rose (La Mome) (2007)', 5.0), (\"I'm Not There (2007)\", 5.0), ('Pillow Talk (1959)', 5.0), ('Wicker Man, The (1973)', 4.875), ('Winnie the Pooh and the Blustery Day (1968)', 4.8)], 'Film-Noir': [('He Walked by Night (1948)', 5.0), ('Sorry, Wrong Number (1948)', 5.0), ('Killing, The (1956)', 5.0), ('Scarface (1932)', 5.0), ('One False Move (1992)', 5.0), ('Diving Bell and the Butterfly, The (Le Scaphandre et le papillon) (2007)', 5.0), ('Killers, The (1946)', 4.75), ('Drifting Clouds (Kauas pilvet karkaavat) (1996)', 4.75), ('M (1931)', 4.7), ('Maltese Falcon, The (1941)', 4.544)], 'Western': [('Rio Lobo (1970)', 5.0), ('Far Country, The (1954)', 5.0), ('Stagecoach (1939)', 5.0), ('My Darling Clementine (1946)', 5.0), ('Fort Apache (1948)', 5.0), ('Ox-Bow Incident, The (1943)', 4.75), ('Man from Laramie, The (1955)', 4.5), ('El Dorado (1967)', 4.5), ('Horse Soldiers, The (1959)', 4.5), ('Bend of the River (1952)', 4.5)], '(no genres listed)': []}\n"
     ]
    }
   ],
   "source": [
    "print(rdd)"
   ]
  },
  {
   "cell_type": "markdown",
   "metadata": {},
   "source": [
    "# Output"
   ]
  },
  {
   "cell_type": "code",
   "execution_count": 10,
   "metadata": {},
   "outputs": [],
   "source": [
    "#save output to hdfs\n",
    "sc.parallelize(rdd.items()).coalesce(1).saveAsTextFile('output/FindTopTenMoviesByRatingAndGenre/')"
   ]
  },
  {
   "cell_type": "code",
   "execution_count": null,
   "metadata": {},
   "outputs": [],
   "source": []
  }
 ],
 "metadata": {
  "kernelspec": {
   "display_name": "Python 3",
   "language": "python",
   "name": "python3"
  },
  "language_info": {
   "codemirror_mode": {
    "name": "ipython",
    "version": 3
   },
   "file_extension": ".py",
   "mimetype": "text/x-python",
   "name": "python",
   "nbconvert_exporter": "python",
   "pygments_lexer": "ipython3",
   "version": "3.6.3"
  }
 },
 "nbformat": 4,
 "nbformat_minor": 2
}
